{
 "cells": [
  {
   "cell_type": "code",
   "execution_count": null,
   "id": "048fa685",
   "metadata": {},
   "outputs": [],
   "source": [
    "def replace_word():\n",
    "    \n",
    "    str = input(\"masukkan kalimat: \")\n",
    "    word_to_replace = input(\"masukkan kata yang ingin diganti: \")\n",
    "    word_replacement = input(\"masukkan kata untuk mengganti: \")\n",
    "    print(str.replace(word_to_replace, word_replacement))\n",
    "    \n",
    "\n",
    "replace_word()\n",
    "    "
   ]
  },
  {
   "cell_type": "code",
   "execution_count": null,
   "id": "84de7373",
   "metadata": {},
   "outputs": [],
   "source": [
    "#define the functions needed, add, sub, mul, div\n",
    "#print option to the user\n",
    "#ask for values\n",
    "#call the functions\n",
    "#while loop to continue the program until the users want to exit\n",
    "\n",
    "def add(a, b):\n",
    "    answer = a + b\n",
    "    print ( str(a) + \" + \" + str(b) + \" = \" + str(answer) + \"\\n\")\n",
    "    \n",
    "def sub(a, b):\n",
    "    answer = a - b\n",
    "    print ( str(a) + \" - \" + str(b) + \" = \" + str(answer) + \"\\n\")\n",
    "\n",
    "def mul(a, b):\n",
    "    answer = a * b\n",
    "    print ( str(a) + \" x \" + str(b) + \" = \" + str(answer) + \"\\n\")\n",
    "\n",
    "def div(a, b):\n",
    "    answer = a / b\n",
    "    print ( str(a) + \" : \" + str(b) + \" = \" + str(answer) + \"\\n\")\n",
    "    \n",
    "while True:\n",
    "    print(\"A. Addition \")\n",
    "    print(\"B. Subtraction \")\n",
    "    print(\"C. Multiplication \")\n",
    "    print(\"D. Division \")\n",
    "    print(\"E. Exit\")\n",
    "\n",
    "    choice =  input(\"masukkan pilihan kamu ? \")\n",
    "\n",
    "    if choice == \"a\" or choice == \"A\":\n",
    "        print(\"Addition\")\n",
    "        a = int(input(\"input angka pertama :\"))\n",
    "        b = int(input(\"input angka kedua: \"))\n",
    "        add(a, b)\n",
    "    elif choice == \"b\" or choice == \"B\":\n",
    "        print(\"Subtraction\")\n",
    "        a = int(input(\"input angka pertama :\"))\n",
    "        b = int(input(\"input angka kedua: \"))\n",
    "        sub(a, b)\n",
    "    elif choice == \"c\" or choice == \"C\":\n",
    "        print(\"Multiplication\")\n",
    "        a = int(input(\"input angka pertama :\"))\n",
    "        b = int(input(\"input angka kedua: \"))\n",
    "        mul(a, b)\n",
    "    elif choice == \"d\" or choice == \"D\":\n",
    "        print(\"Division\")\n",
    "        a = int(input(\"input angka pertama :\"))\n",
    "        b = int(input(\"input angka kedua: \"))\n",
    "        div(a, b)\n",
    "    elif choice == \"e\" or choice == \"E\":\n",
    "        print(\"Exit\")\n",
    "        quit()\n"
   ]
  },
  {
   "cell_type": "code",
   "execution_count": null,
   "id": "864f457a",
   "metadata": {},
   "outputs": [],
   "source": []
  }
 ],
 "metadata": {
  "kernelspec": {
   "display_name": "Python 3 (ipykernel)",
   "language": "python",
   "name": "python3"
  },
  "language_info": {
   "codemirror_mode": {
    "name": "ipython",
    "version": 3
   },
   "file_extension": ".py",
   "mimetype": "text/x-python",
   "name": "python",
   "nbconvert_exporter": "python",
   "pygments_lexer": "ipython3",
   "version": "3.9.2"
  }
 },
 "nbformat": 4,
 "nbformat_minor": 5
}
